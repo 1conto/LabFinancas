{
 "cells": [
  {
   "cell_type": "markdown",
   "metadata": {},
   "source": [
    "# Laboratório de Financas\n",
    "### by Luis Gustavo Ribeiro Andrade"
   ]
  },
  {
   "cell_type": "markdown",
   "metadata": {},
   "source": [
    "## Introdução"
   ]
  },
  {
   "cell_type": "markdown",
   "metadata": {},
   "source": [
    "O avanço na tecnologia nos permite fazer de forma muito mais rápida e automática várias coisas, e em um sistema que agilidade de captar e interpretar informações são tão importantes, o uso de Dados para tomada de decisões vem sendo cada vez mais utilizado no dia a dia. \n",
    "A partir disso, usa-se de algumas técnicas de análise dos dados para otimizar os resultados dos seus investimentos. Tentaremos ao longo deste trabalho desenvolver algumas dessas técnicas."
   ]
  },
  {
   "cell_type": "markdown",
   "metadata": {},
   "source": [
    "# Importando bibliotecas que usaremos"
   ]
  },
  {
   "cell_type": "code",
   "execution_count": 9,
   "metadata": {},
   "outputs": [],
   "source": [
    "import yfinance as yf\n",
    "import pandas as pd\n",
    "import numpy as np\n",
    "import plotly.graph_objects as go\n",
    "import seaborn as sns\n",
    "from sklearn.cluster import KMeans\n",
    "from sklearn.preprocessing import StandardScaler\n",
    "import matplotlib.pyplot as plt"
   ]
  },
  {
   "cell_type": "markdown",
   "metadata": {},
   "source": [
    "# Escolha dos ativos"
   ]
  },
  {
   "cell_type": "markdown",
   "metadata": {},
   "source": [
    "Precisaremos começar a escolher os nossos 20 ativos. Com isso, peguei entre os setores: Financeiro (ITSA4, BBDC4, SANB3, BBAS3), Bens Primários/Commodities (KLBN11, SUZB3, VALE3, CSNA3), Petróleo e correlacionados (PETR4, PRIO3, CSAN3, UGPA3), Saúde (BIOM3, BALM4, FLRY3, ODPV3) e Transporte (AZUL4, JLSG3, MRSA5B, ECOR3). Usaremos o yfinance para pegarmos esses ativos."
   ]
  },
  {
   "cell_type": "code",
   "execution_count": 5,
   "metadata": {},
   "outputs": [],
   "source": [
    "from datetime import date, timedelta\n",
    "today = date.today().strftime(\"%Y-%m-%d\")\n",
    "start_date = date.today()-timedelta(days=1826)\n",
    "start_date = start_date.strftime(\"%Y-%m-%d\")"
   ]
  },
  {
   "cell_type": "code",
   "execution_count": 6,
   "metadata": {},
   "outputs": [
    {
     "name": "stdout",
     "output_type": "stream",
     "text": [
      "[*********************100%%**********************]  20 of 20 completed"
     ]
    },
    {
     "name": "stderr",
     "output_type": "stream",
     "text": [
      "\n",
      "6 Failed downloads:\n",
      "['BBAS3', 'CSNA3', 'JLSG3.SA', 'KLBN11', 'SUZB3', 'VALE3']: Exception('%ticker%: No timezone found, symbol may be delisted')\n"
     ]
    },
    {
     "name": "stdout",
     "output_type": "stream",
     "text": [
      "\n"
     ]
    },
    {
     "data": {
      "text/html": [
       "<div>\n",
       "<style scoped>\n",
       "    .dataframe tbody tr th:only-of-type {\n",
       "        vertical-align: middle;\n",
       "    }\n",
       "\n",
       "    .dataframe tbody tr th {\n",
       "        vertical-align: top;\n",
       "    }\n",
       "\n",
       "    .dataframe thead tr th {\n",
       "        text-align: left;\n",
       "    }\n",
       "\n",
       "    .dataframe thead tr:last-of-type th {\n",
       "        text-align: right;\n",
       "    }\n",
       "</style>\n",
       "<table border=\"1\" class=\"dataframe\">\n",
       "  <thead>\n",
       "    <tr>\n",
       "      <th></th>\n",
       "      <th colspan=\"10\" halign=\"left\">Adj Close</th>\n",
       "      <th>...</th>\n",
       "      <th colspan=\"10\" halign=\"left\">Volume</th>\n",
       "    </tr>\n",
       "    <tr>\n",
       "      <th></th>\n",
       "      <th>AZUL4.SA</th>\n",
       "      <th>BALM4.SA</th>\n",
       "      <th>BBAS3</th>\n",
       "      <th>BBDC4.SA</th>\n",
       "      <th>BIOM3.SA</th>\n",
       "      <th>CSAN3.SA</th>\n",
       "      <th>CSNA3</th>\n",
       "      <th>ECOR3.SA</th>\n",
       "      <th>FLRY3.SA</th>\n",
       "      <th>ITSA4.SA</th>\n",
       "      <th>...</th>\n",
       "      <th>JLSG3.SA</th>\n",
       "      <th>KLBN11</th>\n",
       "      <th>MRSA5B.SA</th>\n",
       "      <th>ODPV3.SA</th>\n",
       "      <th>PETR4.SA</th>\n",
       "      <th>PRIO3.SA</th>\n",
       "      <th>SANB3.SA</th>\n",
       "      <th>SUZB3</th>\n",
       "      <th>UGPA3.SA</th>\n",
       "      <th>VALE3</th>\n",
       "    </tr>\n",
       "    <tr>\n",
       "      <th>Date</th>\n",
       "      <th></th>\n",
       "      <th></th>\n",
       "      <th></th>\n",
       "      <th></th>\n",
       "      <th></th>\n",
       "      <th></th>\n",
       "      <th></th>\n",
       "      <th></th>\n",
       "      <th></th>\n",
       "      <th></th>\n",
       "      <th></th>\n",
       "      <th></th>\n",
       "      <th></th>\n",
       "      <th></th>\n",
       "      <th></th>\n",
       "      <th></th>\n",
       "      <th></th>\n",
       "      <th></th>\n",
       "      <th></th>\n",
       "      <th></th>\n",
       "      <th></th>\n",
       "    </tr>\n",
       "  </thead>\n",
       "  <tbody>\n",
       "    <tr>\n",
       "      <th>2019-08-13</th>\n",
       "      <td>53.549999</td>\n",
       "      <td>10.662709</td>\n",
       "      <td>NaN</td>\n",
       "      <td>18.958611</td>\n",
       "      <td>7.217718</td>\n",
       "      <td>11.241579</td>\n",
       "      <td>NaN</td>\n",
       "      <td>11.493734</td>\n",
       "      <td>19.161690</td>\n",
       "      <td>7.880688</td>\n",
       "      <td>...</td>\n",
       "      <td>NaN</td>\n",
       "      <td>NaN</td>\n",
       "      <td>0</td>\n",
       "      <td>1002210</td>\n",
       "      <td>45330500</td>\n",
       "      <td>5018000</td>\n",
       "      <td>5080</td>\n",
       "      <td>NaN</td>\n",
       "      <td>12316011</td>\n",
       "      <td>NaN</td>\n",
       "    </tr>\n",
       "    <tr>\n",
       "      <th>2019-08-14</th>\n",
       "      <td>50.970001</td>\n",
       "      <td>10.662709</td>\n",
       "      <td>NaN</td>\n",
       "      <td>18.586109</td>\n",
       "      <td>7.390712</td>\n",
       "      <td>10.629195</td>\n",
       "      <td>NaN</td>\n",
       "      <td>11.056784</td>\n",
       "      <td>18.770472</td>\n",
       "      <td>7.776995</td>\n",
       "      <td>...</td>\n",
       "      <td>NaN</td>\n",
       "      <td>NaN</td>\n",
       "      <td>0</td>\n",
       "      <td>1323080</td>\n",
       "      <td>54401100</td>\n",
       "      <td>6777500</td>\n",
       "      <td>5080</td>\n",
       "      <td>NaN</td>\n",
       "      <td>20121310</td>\n",
       "      <td>NaN</td>\n",
       "    </tr>\n",
       "    <tr>\n",
       "      <th>2019-08-15</th>\n",
       "      <td>50.560001</td>\n",
       "      <td>10.662709</td>\n",
       "      <td>NaN</td>\n",
       "      <td>18.458229</td>\n",
       "      <td>7.198496</td>\n",
       "      <td>10.616074</td>\n",
       "      <td>NaN</td>\n",
       "      <td>11.028287</td>\n",
       "      <td>18.131752</td>\n",
       "      <td>7.807494</td>\n",
       "      <td>...</td>\n",
       "      <td>NaN</td>\n",
       "      <td>NaN</td>\n",
       "      <td>0</td>\n",
       "      <td>1797070</td>\n",
       "      <td>53894500</td>\n",
       "      <td>15233500</td>\n",
       "      <td>2857</td>\n",
       "      <td>NaN</td>\n",
       "      <td>28877718</td>\n",
       "      <td>NaN</td>\n",
       "    </tr>\n",
       "    <tr>\n",
       "      <th>2019-08-16</th>\n",
       "      <td>50.470001</td>\n",
       "      <td>10.662709</td>\n",
       "      <td>NaN</td>\n",
       "      <td>18.497150</td>\n",
       "      <td>7.121610</td>\n",
       "      <td>10.845716</td>\n",
       "      <td>NaN</td>\n",
       "      <td>11.332253</td>\n",
       "      <td>18.794422</td>\n",
       "      <td>7.839140</td>\n",
       "      <td>...</td>\n",
       "      <td>NaN</td>\n",
       "      <td>NaN</td>\n",
       "      <td>0</td>\n",
       "      <td>1196690</td>\n",
       "      <td>56782000</td>\n",
       "      <td>10329500</td>\n",
       "      <td>2857</td>\n",
       "      <td>NaN</td>\n",
       "      <td>11642725</td>\n",
       "      <td>NaN</td>\n",
       "    </tr>\n",
       "    <tr>\n",
       "      <th>2019-08-19</th>\n",
       "      <td>49.830002</td>\n",
       "      <td>10.662709</td>\n",
       "      <td>NaN</td>\n",
       "      <td>18.230289</td>\n",
       "      <td>7.015891</td>\n",
       "      <td>10.847904</td>\n",
       "      <td>NaN</td>\n",
       "      <td>11.161272</td>\n",
       "      <td>18.522964</td>\n",
       "      <td>7.701281</td>\n",
       "      <td>...</td>\n",
       "      <td>NaN</td>\n",
       "      <td>NaN</td>\n",
       "      <td>0</td>\n",
       "      <td>2070750</td>\n",
       "      <td>50699300</td>\n",
       "      <td>7879500</td>\n",
       "      <td>2751</td>\n",
       "      <td>NaN</td>\n",
       "      <td>14004652</td>\n",
       "      <td>NaN</td>\n",
       "    </tr>\n",
       "    <tr>\n",
       "      <th>...</th>\n",
       "      <td>...</td>\n",
       "      <td>...</td>\n",
       "      <td>...</td>\n",
       "      <td>...</td>\n",
       "      <td>...</td>\n",
       "      <td>...</td>\n",
       "      <td>...</td>\n",
       "      <td>...</td>\n",
       "      <td>...</td>\n",
       "      <td>...</td>\n",
       "      <td>...</td>\n",
       "      <td>...</td>\n",
       "      <td>...</td>\n",
       "      <td>...</td>\n",
       "      <td>...</td>\n",
       "      <td>...</td>\n",
       "      <td>...</td>\n",
       "      <td>...</td>\n",
       "      <td>...</td>\n",
       "      <td>...</td>\n",
       "      <td>...</td>\n",
       "    </tr>\n",
       "    <tr>\n",
       "      <th>2024-08-05</th>\n",
       "      <td>7.730000</td>\n",
       "      <td>9.800000</td>\n",
       "      <td>NaN</td>\n",
       "      <td>13.610000</td>\n",
       "      <td>9.220000</td>\n",
       "      <td>12.800000</td>\n",
       "      <td>NaN</td>\n",
       "      <td>7.340000</td>\n",
       "      <td>15.240000</td>\n",
       "      <td>9.820000</td>\n",
       "      <td>...</td>\n",
       "      <td>NaN</td>\n",
       "      <td>NaN</td>\n",
       "      <td>0</td>\n",
       "      <td>1400200</td>\n",
       "      <td>44765900</td>\n",
       "      <td>12727300</td>\n",
       "      <td>271700</td>\n",
       "      <td>NaN</td>\n",
       "      <td>9106600</td>\n",
       "      <td>NaN</td>\n",
       "    </tr>\n",
       "    <tr>\n",
       "      <th>2024-08-06</th>\n",
       "      <td>7.780000</td>\n",
       "      <td>9.800000</td>\n",
       "      <td>NaN</td>\n",
       "      <td>14.060000</td>\n",
       "      <td>9.100000</td>\n",
       "      <td>13.000000</td>\n",
       "      <td>NaN</td>\n",
       "      <td>7.700000</td>\n",
       "      <td>15.140000</td>\n",
       "      <td>10.030000</td>\n",
       "      <td>...</td>\n",
       "      <td>NaN</td>\n",
       "      <td>NaN</td>\n",
       "      <td>0</td>\n",
       "      <td>1768800</td>\n",
       "      <td>36009000</td>\n",
       "      <td>14420700</td>\n",
       "      <td>62500</td>\n",
       "      <td>NaN</td>\n",
       "      <td>8325700</td>\n",
       "      <td>NaN</td>\n",
       "    </tr>\n",
       "    <tr>\n",
       "      <th>2024-08-07</th>\n",
       "      <td>7.780000</td>\n",
       "      <td>9.800000</td>\n",
       "      <td>NaN</td>\n",
       "      <td>14.090000</td>\n",
       "      <td>8.780000</td>\n",
       "      <td>13.190000</td>\n",
       "      <td>NaN</td>\n",
       "      <td>7.800000</td>\n",
       "      <td>15.310000</td>\n",
       "      <td>10.080000</td>\n",
       "      <td>...</td>\n",
       "      <td>NaN</td>\n",
       "      <td>NaN</td>\n",
       "      <td>0</td>\n",
       "      <td>1531900</td>\n",
       "      <td>25020500</td>\n",
       "      <td>10045600</td>\n",
       "      <td>165900</td>\n",
       "      <td>NaN</td>\n",
       "      <td>11822600</td>\n",
       "      <td>NaN</td>\n",
       "    </tr>\n",
       "    <tr>\n",
       "      <th>2024-08-08</th>\n",
       "      <td>7.660000</td>\n",
       "      <td>9.850000</td>\n",
       "      <td>NaN</td>\n",
       "      <td>14.250000</td>\n",
       "      <td>9.100000</td>\n",
       "      <td>13.300000</td>\n",
       "      <td>NaN</td>\n",
       "      <td>7.740000</td>\n",
       "      <td>15.560000</td>\n",
       "      <td>10.080000</td>\n",
       "      <td>...</td>\n",
       "      <td>NaN</td>\n",
       "      <td>NaN</td>\n",
       "      <td>0</td>\n",
       "      <td>990600</td>\n",
       "      <td>29870300</td>\n",
       "      <td>7337800</td>\n",
       "      <td>39600</td>\n",
       "      <td>NaN</td>\n",
       "      <td>18239500</td>\n",
       "      <td>NaN</td>\n",
       "    </tr>\n",
       "    <tr>\n",
       "      <th>2024-08-09</th>\n",
       "      <td>7.950000</td>\n",
       "      <td>9.850000</td>\n",
       "      <td>NaN</td>\n",
       "      <td>14.600000</td>\n",
       "      <td>9.780000</td>\n",
       "      <td>13.610000</td>\n",
       "      <td>NaN</td>\n",
       "      <td>7.850000</td>\n",
       "      <td>15.850000</td>\n",
       "      <td>10.350000</td>\n",
       "      <td>...</td>\n",
       "      <td>NaN</td>\n",
       "      <td>NaN</td>\n",
       "      <td>0</td>\n",
       "      <td>643900</td>\n",
       "      <td>66082100</td>\n",
       "      <td>14573600</td>\n",
       "      <td>49900</td>\n",
       "      <td>NaN</td>\n",
       "      <td>6194200</td>\n",
       "      <td>NaN</td>\n",
       "    </tr>\n",
       "  </tbody>\n",
       "</table>\n",
       "<p>1243 rows × 120 columns</p>\n",
       "</div>"
      ],
      "text/plain": [
       "            Adj Close                                                         \\\n",
       "             AZUL4.SA   BALM4.SA BBAS3   BBDC4.SA  BIOM3.SA   CSAN3.SA CSNA3   \n",
       "Date                                                                           \n",
       "2019-08-13  53.549999  10.662709   NaN  18.958611  7.217718  11.241579   NaN   \n",
       "2019-08-14  50.970001  10.662709   NaN  18.586109  7.390712  10.629195   NaN   \n",
       "2019-08-15  50.560001  10.662709   NaN  18.458229  7.198496  10.616074   NaN   \n",
       "2019-08-16  50.470001  10.662709   NaN  18.497150  7.121610  10.845716   NaN   \n",
       "2019-08-19  49.830002  10.662709   NaN  18.230289  7.015891  10.847904   NaN   \n",
       "...               ...        ...   ...        ...       ...        ...   ...   \n",
       "2024-08-05   7.730000   9.800000   NaN  13.610000  9.220000  12.800000   NaN   \n",
       "2024-08-06   7.780000   9.800000   NaN  14.060000  9.100000  13.000000   NaN   \n",
       "2024-08-07   7.780000   9.800000   NaN  14.090000  8.780000  13.190000   NaN   \n",
       "2024-08-08   7.660000   9.850000   NaN  14.250000  9.100000  13.300000   NaN   \n",
       "2024-08-09   7.950000   9.850000   NaN  14.600000  9.780000  13.610000   NaN   \n",
       "\n",
       "                                             ...   Volume                   \\\n",
       "             ECOR3.SA   FLRY3.SA   ITSA4.SA  ... JLSG3.SA KLBN11 MRSA5B.SA   \n",
       "Date                                         ...                             \n",
       "2019-08-13  11.493734  19.161690   7.880688  ...      NaN    NaN         0   \n",
       "2019-08-14  11.056784  18.770472   7.776995  ...      NaN    NaN         0   \n",
       "2019-08-15  11.028287  18.131752   7.807494  ...      NaN    NaN         0   \n",
       "2019-08-16  11.332253  18.794422   7.839140  ...      NaN    NaN         0   \n",
       "2019-08-19  11.161272  18.522964   7.701281  ...      NaN    NaN         0   \n",
       "...               ...        ...        ...  ...      ...    ...       ...   \n",
       "2024-08-05   7.340000  15.240000   9.820000  ...      NaN    NaN         0   \n",
       "2024-08-06   7.700000  15.140000  10.030000  ...      NaN    NaN         0   \n",
       "2024-08-07   7.800000  15.310000  10.080000  ...      NaN    NaN         0   \n",
       "2024-08-08   7.740000  15.560000  10.080000  ...      NaN    NaN         0   \n",
       "2024-08-09   7.850000  15.850000  10.350000  ...      NaN    NaN         0   \n",
       "\n",
       "                                                                        \n",
       "           ODPV3.SA  PETR4.SA  PRIO3.SA SANB3.SA SUZB3  UGPA3.SA VALE3  \n",
       "Date                                                                    \n",
       "2019-08-13  1002210  45330500   5018000     5080   NaN  12316011   NaN  \n",
       "2019-08-14  1323080  54401100   6777500     5080   NaN  20121310   NaN  \n",
       "2019-08-15  1797070  53894500  15233500     2857   NaN  28877718   NaN  \n",
       "2019-08-16  1196690  56782000  10329500     2857   NaN  11642725   NaN  \n",
       "2019-08-19  2070750  50699300   7879500     2751   NaN  14004652   NaN  \n",
       "...             ...       ...       ...      ...   ...       ...   ...  \n",
       "2024-08-05  1400200  44765900  12727300   271700   NaN   9106600   NaN  \n",
       "2024-08-06  1768800  36009000  14420700    62500   NaN   8325700   NaN  \n",
       "2024-08-07  1531900  25020500  10045600   165900   NaN  11822600   NaN  \n",
       "2024-08-08   990600  29870300   7337800    39600   NaN  18239500   NaN  \n",
       "2024-08-09   643900  66082100  14573600    49900   NaN   6194200   NaN  \n",
       "\n",
       "[1243 rows x 120 columns]"
      ]
     },
     "execution_count": 6,
     "metadata": {},
     "output_type": "execute_result"
    }
   ],
   "source": [
    "ativos_selecionados = ['ITSA4.SA', 'BBDC4.SA', 'SANB3.SA', 'BBAS3',\n",
    "                       'KLBN11', 'SUZB3', 'VALE3', 'CSNA3',\n",
    "                       'PETR4.SA', 'PRIO3.SA', 'CSAN3.SA', 'UGPA3.SA',\n",
    "                       'BIOM3.SA', 'BALM4.SA', 'FLRY3.SA', 'ODPV3.SA',\n",
    "                       'AZUL4.SA', 'JLSG3.SA', 'MRSA5B.SA', 'ECOR3.SA']\n",
    "dados = yf.download(ativos_selecionados, start=start_date, end=today)\n",
    "dados"
   ]
  },
  {
   "cell_type": "code",
   "execution_count": 7,
   "metadata": {},
   "outputs": [
    {
     "data": {
      "text/html": [
       "<div>\n",
       "<style scoped>\n",
       "    .dataframe tbody tr th:only-of-type {\n",
       "        vertical-align: middle;\n",
       "    }\n",
       "\n",
       "    .dataframe tbody tr th {\n",
       "        vertical-align: top;\n",
       "    }\n",
       "\n",
       "    .dataframe thead th {\n",
       "        text-align: right;\n",
       "    }\n",
       "</style>\n",
       "<table border=\"1\" class=\"dataframe\">\n",
       "  <thead>\n",
       "    <tr style=\"text-align: right;\">\n",
       "      <th></th>\n",
       "      <th>Retorno</th>\n",
       "      <th>Volatilidade</th>\n",
       "    </tr>\n",
       "  </thead>\n",
       "  <tbody>\n",
       "    <tr>\n",
       "      <th>AZUL4.SA</th>\n",
       "      <td>25.088053</td>\n",
       "      <td>14.223406</td>\n",
       "    </tr>\n",
       "    <tr>\n",
       "      <th>BALM4.SA</th>\n",
       "      <td>10.816718</td>\n",
       "      <td>2.254198</td>\n",
       "    </tr>\n",
       "    <tr>\n",
       "      <th>BBDC4.SA</th>\n",
       "      <td>15.592748</td>\n",
       "      <td>2.414796</td>\n",
       "    </tr>\n",
       "    <tr>\n",
       "      <th>BIOM3.SA</th>\n",
       "      <td>10.781495</td>\n",
       "      <td>4.335509</td>\n",
       "    </tr>\n",
       "    <tr>\n",
       "      <th>CSAN3.SA</th>\n",
       "      <td>16.961321</td>\n",
       "      <td>2.89444</td>\n",
       "    </tr>\n",
       "    <tr>\n",
       "      <th>ECOR3.SA</th>\n",
       "      <td>8.992722</td>\n",
       "      <td>3.150305</td>\n",
       "    </tr>\n",
       "    <tr>\n",
       "      <th>FLRY3.SA</th>\n",
       "      <td>17.687251</td>\n",
       "      <td>3.528817</td>\n",
       "    </tr>\n",
       "    <tr>\n",
       "      <th>ITSA4.SA</th>\n",
       "      <td>7.614056</td>\n",
       "      <td>1.18077</td>\n",
       "    </tr>\n",
       "    <tr>\n",
       "      <th>MRSA5B.SA</th>\n",
       "      <td>24.687728</td>\n",
       "      <td>9.232269</td>\n",
       "    </tr>\n",
       "    <tr>\n",
       "      <th>ODPV3.SA</th>\n",
       "      <td>10.614852</td>\n",
       "      <td>1.209112</td>\n",
       "    </tr>\n",
       "    <tr>\n",
       "      <th>PETR4.SA</th>\n",
       "      <td>17.068708</td>\n",
       "      <td>9.815511</td>\n",
       "    </tr>\n",
       "    <tr>\n",
       "      <th>PRIO3.SA</th>\n",
       "      <td>24.95726</td>\n",
       "      <td>14.887297</td>\n",
       "    </tr>\n",
       "    <tr>\n",
       "      <th>SANB3.SA</th>\n",
       "      <td>13.118035</td>\n",
       "      <td>1.939232</td>\n",
       "    </tr>\n",
       "    <tr>\n",
       "      <th>UGPA3.SA</th>\n",
       "      <td>13.711181</td>\n",
       "      <td>6.111455</td>\n",
       "    </tr>\n",
       "  </tbody>\n",
       "</table>\n",
       "</div>"
      ],
      "text/plain": [
       "             Retorno Volatilidade\n",
       "AZUL4.SA   25.088053    14.223406\n",
       "BALM4.SA   10.816718     2.254198\n",
       "BBDC4.SA   15.592748     2.414796\n",
       "BIOM3.SA   10.781495     4.335509\n",
       "CSAN3.SA   16.961321      2.89444\n",
       "ECOR3.SA    8.992722     3.150305\n",
       "FLRY3.SA   17.687251     3.528817\n",
       "ITSA4.SA    7.614056      1.18077\n",
       "MRSA5B.SA  24.687728     9.232269\n",
       "ODPV3.SA   10.614852     1.209112\n",
       "PETR4.SA   17.068708     9.815511\n",
       "PRIO3.SA    24.95726    14.887297\n",
       "SANB3.SA   13.118035     1.939232\n",
       "UGPA3.SA   13.711181     6.111455"
      ]
     },
     "execution_count": 7,
     "metadata": {},
     "output_type": "execute_result"
    }
   ],
   "source": [
    "retorno = dados['Adj Close'].reset_index().T.dropna().T\n",
    "retorno = retorno.set_index('Date')\n",
    "média = retorno.mean()\n",
    "dp = retorno.std()\n",
    "var_ativos = pd.concat([média, dp], axis=1)\n",
    "var_ativos.columns = ['Retorno', 'Volatilidade']\n",
    "var_ativos"
   ]
  },
  {
   "cell_type": "code",
   "execution_count": 10,
   "metadata": {},
   "outputs": [
    {
     "name": "stderr",
     "output_type": "stream",
     "text": [
      "c:\\Users\\luisg\\AppData\\Local\\Programs\\Python\\Python312\\Lib\\site-packages\\sklearn\\cluster\\_kmeans.py:1416: FutureWarning: The default value of `n_init` will change from 10 to 'auto' in 1.4. Set the value of `n_init` explicitly to suppress the warning\n",
      "  super()._check_params_vs_input(X, default_n_init=10)\n",
      "c:\\Users\\luisg\\AppData\\Local\\Programs\\Python\\Python312\\Lib\\site-packages\\sklearn\\cluster\\_kmeans.py:1416: FutureWarning: The default value of `n_init` will change from 10 to 'auto' in 1.4. Set the value of `n_init` explicitly to suppress the warning\n",
      "  super()._check_params_vs_input(X, default_n_init=10)\n",
      "c:\\Users\\luisg\\AppData\\Local\\Programs\\Python\\Python312\\Lib\\site-packages\\sklearn\\cluster\\_kmeans.py:1416: FutureWarning: The default value of `n_init` will change from 10 to 'auto' in 1.4. Set the value of `n_init` explicitly to suppress the warning\n",
      "  super()._check_params_vs_input(X, default_n_init=10)\n",
      "c:\\Users\\luisg\\AppData\\Local\\Programs\\Python\\Python312\\Lib\\site-packages\\sklearn\\cluster\\_kmeans.py:1416: FutureWarning: The default value of `n_init` will change from 10 to 'auto' in 1.4. Set the value of `n_init` explicitly to suppress the warning\n",
      "  super()._check_params_vs_input(X, default_n_init=10)\n",
      "c:\\Users\\luisg\\AppData\\Local\\Programs\\Python\\Python312\\Lib\\site-packages\\sklearn\\cluster\\_kmeans.py:1416: FutureWarning: The default value of `n_init` will change from 10 to 'auto' in 1.4. Set the value of `n_init` explicitly to suppress the warning\n",
      "  super()._check_params_vs_input(X, default_n_init=10)\n",
      "c:\\Users\\luisg\\AppData\\Local\\Programs\\Python\\Python312\\Lib\\site-packages\\sklearn\\cluster\\_kmeans.py:1416: FutureWarning: The default value of `n_init` will change from 10 to 'auto' in 1.4. Set the value of `n_init` explicitly to suppress the warning\n",
      "  super()._check_params_vs_input(X, default_n_init=10)\n",
      "c:\\Users\\luisg\\AppData\\Local\\Programs\\Python\\Python312\\Lib\\site-packages\\sklearn\\cluster\\_kmeans.py:1416: FutureWarning: The default value of `n_init` will change from 10 to 'auto' in 1.4. Set the value of `n_init` explicitly to suppress the warning\n",
      "  super()._check_params_vs_input(X, default_n_init=10)\n",
      "c:\\Users\\luisg\\AppData\\Local\\Programs\\Python\\Python312\\Lib\\site-packages\\sklearn\\cluster\\_kmeans.py:1416: FutureWarning: The default value of `n_init` will change from 10 to 'auto' in 1.4. Set the value of `n_init` explicitly to suppress the warning\n",
      "  super()._check_params_vs_input(X, default_n_init=10)\n",
      "c:\\Users\\luisg\\AppData\\Local\\Programs\\Python\\Python312\\Lib\\site-packages\\sklearn\\cluster\\_kmeans.py:1416: FutureWarning: The default value of `n_init` will change from 10 to 'auto' in 1.4. Set the value of `n_init` explicitly to suppress the warning\n",
      "  super()._check_params_vs_input(X, default_n_init=10)\n",
      "c:\\Users\\luisg\\AppData\\Local\\Programs\\Python\\Python312\\Lib\\site-packages\\sklearn\\cluster\\_kmeans.py:1416: FutureWarning: The default value of `n_init` will change from 10 to 'auto' in 1.4. Set the value of `n_init` explicitly to suppress the warning\n",
      "  super()._check_params_vs_input(X, default_n_init=10)\n"
     ]
    },
    {
     "data": {
      "image/png": "[encoded data removed]",
      "text/plain": [
       "<Figure size 640x480 with 1 Axes>"
      ]
     },
     "metadata": {},
     "output_type": "display_data"
    }
   ],
   "source": [
    "scaler = StandardScaler()\n",
    "X_scaled = scaler.fit_transform(var_ativos)\n",
    "\n",
    "# Calculando a soma dos quadrados das distâncias intra-cluster para diferentes valores de k\n",
    "wcss = []\n",
    "for i in range(1, 11):\n",
    "    kmeans = KMeans(n_clusters=i, random_state=42)\n",
    "    kmeans.fit(X_scaled)\n",
    "    wcss.append(kmeans.inertia_)\n",
    "\n",
    "# Plotando o gráfico Elbow\n",
    "plt.plot(range(1, 11), wcss)\n",
    "plt.title('Método Elbow para Escolha de Clusters')\n",
    "plt.xlabel('Número de Clusters')\n",
    "plt.ylabel('WCSS (Within-Cluster Sum of Squares)')\n",
    "plt.show()"
   ]
  },
  {
   "cell_type": "code",
   "execution_count": 11,
   "metadata": {},
   "outputs": [
    {
     "name": "stderr",
     "output_type": "stream",
     "text": [
      "c:\\Users\\luisg\\AppData\\Local\\Programs\\Python\\Python312\\Lib\\site-packages\\sklearn\\cluster\\_kmeans.py:1416: FutureWarning: The default value of `n_init` will change from 10 to 'auto' in 1.4. Set the value of `n_init` explicitly to suppress the warning\n",
      "  super()._check_params_vs_input(X, default_n_init=10)\n"
     ]
    }
   ],
   "source": [
    "kmean = KMeans(n_clusters=4)\n",
    "kmean.fit(var_ativos)\n",
    "labels = kmean.labels_\n",
    "\n",
    "var_ativos['Cluster'] = labels"
   ]
  },
  {
   "cell_type": "code",
   "execution_count": 12,
   "metadata": {},
   "outputs": [
    {
     "data": {
      "text/plain": [
       "<Axes: xlabel='Volatilidade', ylabel='Retorno'>"
      ]
     },
     "execution_count": 12,
     "metadata": {},
     "output_type": "execute_result"
    },
    {
     "data": {
      "image/png": "[encoded data removed]",
      "text/plain": [
       "<Figure size 640x480 with 1 Axes>"
      ]
     },
     "metadata": {},
     "output_type": "display_data"
    }
   ],
   "source": [
    "sns.scatterplot(x = var_ativos['Volatilidade'], y = var_ativos['Retorno'], hue = var_ativos['Cluster'])"
   ]
  },
  {
   "cell_type": "markdown",
   "metadata": {},
   "source": [
    "Nossa escolha de 5 ativos serão os ativos com melhores índices de sharpe, faremos um cálculo do índice de Sharpe para os ativos abaixo."
   ]
  },
  {
   "cell_type": "code",
   "execution_count": 13,
   "metadata": {},
   "outputs": [],
   "source": [
    "risk_free = 0.1275\n",
    "var_ativos['Índice de Sharpe']=(var_ativos['Retorno']-risk_free)/var_ativos['Volatilidade']"
   ]
  },
  {
   "cell_type": "markdown",
   "metadata": {},
   "source": [
    "Pelo Índice de Sharpe, quanto maior o valor, melhor o retorno."
   ]
  },
  {
   "cell_type": "code",
   "execution_count": 14,
   "metadata": {},
   "outputs": [
    {
     "data": {
      "text/html": [
       "<div>\n",
       "<style scoped>\n",
       "    .dataframe tbody tr th:only-of-type {\n",
       "        vertical-align: middle;\n",
       "    }\n",
       "\n",
       "    .dataframe tbody tr th {\n",
       "        vertical-align: top;\n",
       "    }\n",
       "\n",
       "    .dataframe thead th {\n",
       "        text-align: right;\n",
       "    }\n",
       "</style>\n",
       "<table border=\"1\" class=\"dataframe\">\n",
       "  <thead>\n",
       "    <tr style=\"text-align: right;\">\n",
       "      <th></th>\n",
       "      <th>Retorno</th>\n",
       "      <th>Volatilidade</th>\n",
       "      <th>Cluster</th>\n",
       "      <th>Índice de Sharpe</th>\n",
       "    </tr>\n",
       "  </thead>\n",
       "  <tbody>\n",
       "    <tr>\n",
       "      <th>ODPV3.SA</th>\n",
       "      <td>10.614852</td>\n",
       "      <td>1.209112</td>\n",
       "      <td>1</td>\n",
       "      <td>8.673601</td>\n",
       "    </tr>\n",
       "    <tr>\n",
       "      <th>SANB3.SA</th>\n",
       "      <td>13.118035</td>\n",
       "      <td>1.939232</td>\n",
       "      <td>3</td>\n",
       "      <td>6.698802</td>\n",
       "    </tr>\n",
       "    <tr>\n",
       "      <th>BBDC4.SA</th>\n",
       "      <td>15.592748</td>\n",
       "      <td>2.414796</td>\n",
       "      <td>3</td>\n",
       "      <td>6.40437</td>\n",
       "    </tr>\n",
       "    <tr>\n",
       "      <th>ITSA4.SA</th>\n",
       "      <td>7.614056</td>\n",
       "      <td>1.18077</td>\n",
       "      <td>1</td>\n",
       "      <td>6.340403</td>\n",
       "    </tr>\n",
       "    <tr>\n",
       "      <th>CSAN3.SA</th>\n",
       "      <td>16.961321</td>\n",
       "      <td>2.89444</td>\n",
       "      <td>3</td>\n",
       "      <td>5.815917</td>\n",
       "    </tr>\n",
       "  </tbody>\n",
       "</table>\n",
       "</div>"
      ],
      "text/plain": [
       "            Retorno Volatilidade  Cluster Índice de Sharpe\n",
       "ODPV3.SA  10.614852     1.209112        1         8.673601\n",
       "SANB3.SA  13.118035     1.939232        3         6.698802\n",
       "BBDC4.SA  15.592748     2.414796        3          6.40437\n",
       "ITSA4.SA   7.614056      1.18077        1         6.340403\n",
       "CSAN3.SA  16.961321      2.89444        3         5.815917"
      ]
     },
     "execution_count": 14,
     "metadata": {},
     "output_type": "execute_result"
    }
   ],
   "source": [
    "var_ativos = var_ativos.sort_values(by='Índice de Sharpe', ascending=False)\n",
    "ativos_escolhidos = var_ativos[:5]\n",
    "ativos_escolhidos"
   ]
  },
  {
   "cell_type": "markdown",
   "metadata": {},
   "source": [
    "Agora temos que escolhemos os nossos ativos através de riscos baixos definidos pela nossa escolha do Índice de Sharpe e pela clusterização por KMeans, que nos ranqueou os riscos dos ativos, onde conseguimos escolher ativos com risco menor pelo Cluster. Sendo que quanto maior o risco, maior o Cluster atribuído."
   ]
  },
  {
   "cell_type": "code",
   "execution_count": 15,
   "metadata": {},
   "outputs": [
    {
     "data": {
      "text/plain": [
       "<Axes: xlabel='Volatilidade', ylabel='Retorno'>"
      ]
     },
     "execution_count": 15,
     "metadata": {},
     "output_type": "execute_result"
    },
    {
     "data": {
      "image/png": "[encoded data removed]",
      "text/plain": [
       "<Figure size 640x480 with 1 Axes>"
      ]
     },
     "metadata": {},
     "output_type": "display_data"
    }
   ],
   "source": [
    "sns.scatterplot(x = ativos_escolhidos['Volatilidade'], y=ativos_escolhidos['Retorno'])"
   ]
  },
  {
   "cell_type": "markdown",
   "metadata": {},
   "source": [
    "Agora, faremos uma análise das correlações dos ativos que nos foi selecionado pelo método de clusterização.\n",
    "Para isso, precisamos utilizar os dados brutos do retorno, com todas as datas."
   ]
  },
  {
   "cell_type": "code",
   "execution_count": 16,
   "metadata": {},
   "outputs": [
    {
     "data": {
      "text/plain": [
       "BBDC4.SA    float64\n",
       "CSAN3.SA    float64\n",
       "ITSA4.SA    float64\n",
       "ODPV3.SA    float64\n",
       "SANB3.SA    float64\n",
       "dtype: object"
      ]
     },
     "execution_count": 16,
     "metadata": {},
     "output_type": "execute_result"
    }
   ],
   "source": [
    "escolhidos = list(ativos_escolhidos.index)\n",
    "retorno_escolhidos = retorno.drop(retorno.columns.difference(escolhidos), axis=1)\n",
    "retorno_escolhidos = retorno_escolhidos.dropna()\n",
    "retorno_escolhidos = retorno_escolhidos.astype(float)\n",
    "retorno_escolhidos.dtypes"
   ]
  },
  {
   "cell_type": "code",
   "execution_count": 17,
   "metadata": {},
   "outputs": [
    {
     "data": {
      "text/plain": [
       "<Axes: >"
      ]
     },
     "execution_count": 17,
     "metadata": {},
     "output_type": "execute_result"
    },
    {
     "data": {
      "image/png": "[encoded data removed]",
      "text/plain": [
       "<Figure size 640x480 with 2 Axes>"
      ]
     },
     "metadata": {},
     "output_type": "display_data"
    }
   ],
   "source": [
    "correlacao_escolhidos = retorno_escolhidos.corr()\n",
    "sns.heatmap(correlacao_escolhidos)"
   ]
  },
  {
   "cell_type": "markdown",
   "metadata": {},
   "source": [
    "Podemos perceber que minimizando os riscos encontrados pelo método de Cluster em KMeans, os setores que mais apareceu entre nossos ativos de baixo risco com bons retornos em comparação com o Risk Free(Selic) foi o Setor Financeiro, mais especificamente os Bancários, outro setor que apareceu forte também foi o setor de saúde."
   ]
  },
  {
   "cell_type": "markdown",
   "metadata": {},
   "source": [
    "## Conclusão"
   ]
  },
  {
   "cell_type": "markdown",
   "metadata": {},
   "source": [
    "Diante nosso código para cálcular os principais ativos de uma série de 20 ativos e selecionar os 5 ativos com mais retorno/risco."
   ]
  },
  {
   "cell_type": "markdown",
   "metadata": {},
   "source": [
    "## Referências"
   ]
  },
  {
   "cell_type": "markdown",
   "metadata": {},
   "source": [
    "[1] Chat-GPT: Fiz uso do Chat-GPT para responder dúvidas pontuais e me trazer alguns códigos que não estavam rodando.\n",
    "\n",
    "[2] https://www.dataquest.io/blog/portfolio-project-predicting-stock-prices-using-pandas-and-scikit-learn/: Usei o link acima para ter um conhecimento maior sobre o scikit-learn."
   ]
  },
  {
   "cell_type": "markdown",
   "metadata": {},
   "source": []
  }
 ],
 "metadata": {
  "kernelspec": {
   "display_name": "Python 3",
   "language": "python",
   "name": "python3"
  },
  "language_info": {
   "codemirror_mode": {
    "name": "ipython",
    "version": 3
   },
   "file_extension": ".py",
   "mimetype": "text/x-python",
   "name": "python",
   "nbconvert_exporter": "python",
   "pygments_lexer": "ipython3",
   "version": "3.12.0"
  },
  "orig_nbformat": 4
 },
 "nbformat": 4,
 "nbformat_minor": 2
}
